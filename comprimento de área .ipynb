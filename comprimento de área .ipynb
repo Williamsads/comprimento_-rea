{
 "cells": [
  {
   "cell_type": "markdown",
   "id": "260a0e49",
   "metadata": {},
   "source": [
    "1- declare as variaveis comprimento e altura 2- peça ao usuário para fornecer os valores de compmprimento e altura 3- calcule a área multiplicando comprimento pela altura 4- armazene o resultado na variavel \"área\" 5- imprima o valor da variavel \"área\""
   ]
  },
  {
   "cell_type": "code",
   "execution_count": 3,
   "id": "438acf1e",
   "metadata": {},
   "outputs": [
    {
     "name": "stdout",
     "output_type": "stream",
     "text": [
      "qual o tamanho do comprimento?10\n",
      "qual o tamanho da area?10\n",
      "100.0\n"
     ]
    }
   ],
   "source": [
    "comprimento = float(input(\"qual o tamanho do comprimento?\"))\n",
    "area = float(input(\"qual o tamanho da area?\"))\n",
    "\n",
    "calcular = comprimento * area \n",
    "area = calcular\n",
    "print(area)\n"
   ]
  },
  {
   "cell_type": "code",
   "execution_count": null,
   "id": "72c83abe",
   "metadata": {},
   "outputs": [],
   "source": []
  }
 ],
 "metadata": {
  "kernelspec": {
   "display_name": "Python 3 (ipykernel)",
   "language": "python",
   "name": "python3"
  },
  "language_info": {
   "codemirror_mode": {
    "name": "ipython",
    "version": 3
   },
   "file_extension": ".py",
   "mimetype": "text/x-python",
   "name": "python",
   "nbconvert_exporter": "python",
   "pygments_lexer": "ipython3",
   "version": "3.9.13"
  }
 },
 "nbformat": 4,
 "nbformat_minor": 5
}
